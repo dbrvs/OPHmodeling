{
 "cells": [
  {
   "cell_type": "code",
   "execution_count": 1,
   "metadata": {},
   "outputs": [],
   "source": [
    "#!/usr/bin/python\n",
    "%matplotlib inline\n",
    "\n",
    "import numpy as np\n",
    "import pandas as pd\n"
   ]
  },
  {
   "cell_type": "code",
   "execution_count": 2,
   "metadata": {},
   "outputs": [
    {
     "data": {
      "text/plain": [
       "Index(['Unnamed: 0', 'master_ptid', 'enrollcohort', 'infsex',\n",
       "       'haart_start_sregimen', 'ART_mo', 'age_yr', 'vload', 'cd4count',\n",
       "       'total_hivdna_persist2020', 'intact_hivdna_persist2020',\n",
       "       'tot_tcells_persist2020', 'cens_vl', 'cens_intact', 'intact_corrected',\n",
       "       'short_id', 'co', 'log10VL', 'log10tot', 'log10int', 'log10def'],\n",
       "      dtype='object')"
      ]
     },
     "execution_count": 2,
     "metadata": {},
     "output_type": "execute_result"
    }
   ],
   "source": [
    "#read in data from first cleaning file\n",
    "\n",
    "df=pd.read_csv('data/clean1-out.csv')#,index=False)\n",
    "\n",
    "df.columns"
   ]
  },
  {
   "cell_type": "code",
   "execution_count": 3,
   "metadata": {},
   "outputs": [],
   "source": [
    "## FIXED parameters\n",
    "\n",
    "#thresholds VLs (I varied these for sensitivity analysis)\n",
    "threshold_name=''\n",
    "suppressVL_threshold = np.log10(1e3) #has to go down below this by 1yr\n",
    "blipVL_threshold = np.log10(3e3)     #can't go back up above this (used 3e3 before)\n",
    "suppressmo_threshold = 12            #suppress within 1 year\n",
    "minn=0                               #the required number of intact time points? can be zero\n",
    "\n",
    "#which cohorts?\n",
    "cnames = ['0: OPH03', '1: OPH612-->OPH03', '2: IHE, not OPH612', '8: PAD-INK', '10: PAD only']\n",
    "\n",
    "#df = df[df['enrollcohort']=='0: OPH03'] #restrict to OPH\n"
   ]
  },
  {
   "cell_type": "code",
   "execution_count": 4,
   "metadata": {},
   "outputs": [
    {
     "name": "stdout",
     "output_type": "stream",
     "text": [
      "total ppts= 120 , cohorts= 3 , OPH ppts= 120\n"
     ]
    }
   ],
   "source": [
    "#Number of OPH kids in whole analysis\n",
    "\n",
    "N0 = len(df['master_ptid'].unique())\n",
    "OPHids = df[df['co']=='OPH']['master_ptid'].unique()\n",
    "Noph = len(OPHids)\n",
    "\n",
    "print('total ppts=',N0,', cohorts=',len(df['enrollcohort'].unique()),', OPH ppts=',Noph)"
   ]
  },
  {
   "cell_type": "code",
   "execution_count": 5,
   "metadata": {},
   "outputs": [
    {
     "data": {
      "text/plain": [
       "Index(['Unnamed: 0', 'master_ptid', 'enrollcohort', 'infsex',\n",
       "       'haart_start_sregimen', 'ART_mo', 'age_yr', 'vload', 'cd4count',\n",
       "       'total_hivdna_persist2020', 'intact_hivdna_persist2020',\n",
       "       'tot_tcells_persist2020', 'cens_vl', 'cens_intact', 'intact_corrected',\n",
       "       'short_id', 'co', 'log10VL', 'log10tot', 'log10int', 'log10def', 'f/m',\n",
       "       'cohort', 'ARTregimen', 'ratio', 'agemo_at_ART'],\n",
       "      dtype='object')"
      ]
     },
     "execution_count": 5,
     "metadata": {},
     "output_type": "execute_result"
    }
   ],
   "source": [
    "#add easier to use variables\n",
    "\n",
    "#change sex to 0 and 1 (male is 1)\n",
    "f0m1 = np.zeros(len(df))\n",
    "f0m1[np.where(df['infsex']=='Male')]=1\n",
    "df['f/m']=f0m1\n",
    "\n",
    "#numeral cohorts\n",
    "enco = np.zeros(len(df))\n",
    "for ico,co in enumerate(df['enrollcohort'].unique()):\n",
    "    enco[np.where(df['enrollcohort']==co)]=ico\n",
    "df['cohort']=enco\n",
    "\n",
    "#numeral ART\n",
    "ARTreg = np.zeros(len(df))\n",
    "for iA,A in enumerate(df['haart_start_sregimen'].unique()):\n",
    "    ARTreg[np.where(df['haart_start_sregimen']==A)]=iA\n",
    "df['ARTregimen']=ARTreg\n",
    "regimens = df['haart_start_sregimen'].unique() #the key\n",
    "\n",
    "#get ratio\n",
    "df['ratio']=df['log10int']-df['log10def']\n",
    "\n",
    "#age when ART started\n",
    "agel=[]\n",
    "for p in df['master_ptid'].unique():\n",
    "    tdf=df[df['master_ptid']==p]\n",
    "    for i in range(len(tdf)):\n",
    "        agel.append(tdf['age_yr'].min()*12)\n",
    "df['agemo_at_ART']=agel\n",
    "\n",
    "df.columns"
   ]
  },
  {
   "cell_type": "code",
   "execution_count": 6,
   "metadata": {},
   "outputs": [],
   "source": [
    "#function to figure out when ppts are suppressed\n",
    "#they need to suppress and if they blip we stop following\n",
    "#if suppression happens late we can deal with that later using suppress mo\n",
    "\n",
    "def get_suppress_times(tdf):\n",
    "    tt=tdf['ART_mo']\n",
    "    vl=tdf['log10VL']\n",
    "\n",
    "    #look for first suppressed time point, then if goes back above, stop\n",
    "    supp_mo=0; blip_mo=0; blip_VL=0\n",
    "    supp=0 #set non\n",
    "    suppress_index_l=[]\n",
    "    for i in range(len(tdf)):\n",
    "        #print(tdf['ART_mo'].iloc[i],tdf['log10VL'].iloc[i])\n",
    "        vli = vl.iloc[i]\n",
    "        ti=tt.iloc[i]\n",
    "        \n",
    "        if supp==0:\n",
    "            if vli<suppressVL_threshold: #1000 threshold?\n",
    "                supp=1\n",
    "                suppress_index_l.append(i)\n",
    "                supp_mo=ti\n",
    "        elif supp==1:\n",
    "            if vli<blipVL_threshold: #second threshold? usually set 3000 to allow for some small blips\n",
    "                suppress_index_l.append(i)\n",
    "            else:\n",
    "                blip_mo=ti\n",
    "                supp=2\n",
    "                blip_VL=vli\n",
    "    \n",
    "    return supp_mo,blip_mo,blip_VL,suppress_index_l\n"
   ]
  },
  {
   "cell_type": "code",
   "execution_count": 7,
   "metadata": {},
   "outputs": [
    {
     "name": "stdout",
     "output_type": "stream",
     "text": [
      "pid n_int\n",
      "311000119 3\n",
      "311000219 0\n",
      "311000319 4\n",
      "311000419 5\n",
      "311000519 2\n",
      "311000719 2\n",
      "311001019 3\n",
      "311001219 4\n",
      "311001919 3\n",
      "311002019 1\n",
      "311002219 3\n",
      "311002719 5\n",
      "311002819 3\n",
      "311002919 7\n",
      "311003119 4\n",
      "311003419 3\n",
      "311003519 4\n",
      "311003819 0\n",
      "311004619 5\n",
      "311004719 4\n",
      "311004919 9\n",
      "311005019 6\n",
      "311005419 0\n",
      "311005519 5\n",
      "311005719 7\n",
      "311006019 5\n",
      "311006219 3\n",
      "311006619 3\n",
      "311006719 4\n",
      "311006819 0\n",
      "311007319 8\n",
      "311007419 1\n",
      "311007519 1\n",
      "311007619 4\n",
      "311007819 10\n",
      "311008019 2\n",
      "311008319 5\n",
      "311008819 3\n",
      "311009619 0\n",
      "311009719 6\n",
      "311009819 4\n",
      "311010119 1\n",
      "311010219 1\n",
      "311010419 0\n",
      "311010519 1\n",
      "311010619 0\n",
      "311010819 2\n",
      "311010919 2\n",
      "311011019 2\n",
      "311011419 0\n",
      "311011519 0\n",
      "311011619 5\n",
      "311011719 1\n",
      "311011819 0\n",
      "311011919 0\n",
      "311012019 3\n",
      "311012219 3\n",
      "311012419 4\n",
      "311012519 2\n",
      "311012619 3\n",
      "311012819 0\n",
      "311012919 4\n",
      "311013019 1\n",
      "311013119 0\n",
      "311013219 1\n",
      "311013319 4\n",
      "311013419 5\n",
      "311013519 0\n",
      "311013719 0\n",
      "311013919 3\n"
     ]
    }
   ],
   "source": [
    "#make a data frame with time, VL, cd4, intact, defective\n",
    "#selecting only CWH who suppress VL by 1yr?\n",
    "#where time ranges from 0 (note some negatives need to be dropped, or could impute t=0 from set point)\n",
    "#up to the time of any blips\n",
    "\n",
    "#now make the down selected list of ppts with a couple extra rules about reservoir measurements\n",
    "\n",
    "all_suppress_df = pd.DataFrame() #bigdf for output\n",
    "\n",
    "good_l=[] #list for people who achieve suppression\n",
    "\n",
    "nl=[]\n",
    "print('pid','n_int')\n",
    "for p in OPHids:\n",
    "    tdf=df[df['master_ptid']==p]\n",
    "            \n",
    "    supp_mo,blip_mo,blip_VL,suppress_index_l = get_suppress_times(tdf) #use function, if there are any!\n",
    "        \n",
    "    #plt.plot(tdf['ART_mo'],tdf['log10VL'],color='gray',alpha=0.1)#additional rules?\n",
    "    \n",
    "    #make sure there are any at all suppressed time points\n",
    "    if suppress_index_l:\n",
    "        if supp_mo<suppressmo_threshold: #needs to suppress within a year\n",
    "            \n",
    "            suppress_df = tdf.iloc[:np.max(suppress_index_l)].copy() #subset until\n",
    "            \n",
    "            suppress_df['suppress_mo']=np.ones(len(suppress_df))*supp_mo\n",
    "            suppress_df['blip_mo']=np.ones(len(suppress_df))*blip_mo\n",
    "            \n",
    "            suppress_df = suppress_df.drop(axis=1,labels=['vload', 'total_hivdna_persist2020', \n",
    "                            'intact_hivdna_persist2020', 'tot_tcells_persist2020',])            \n",
    "                \n",
    "            stdf=suppress_df[['log10int','cens_intact']].dropna()\n",
    "\n",
    "            print(p,len(stdf))\n",
    "            #Must be more than NI intact measurements?\n",
    "            if (len(stdf)>minn):\n",
    "                #if (stdf['cens_intact']<1).any(): #make sure there are some that wasn't censored?\n",
    "                nl.append(len(stdf))\n",
    "                all_suppress_df = all_suppress_df._append(suppress_df)\n",
    "                good_l.append(p)\n",
    "                \n",
    "Ng=len(good_l)\n"
   ]
  },
  {
   "cell_type": "code",
   "execution_count": 8,
   "metadata": {},
   "outputs": [
    {
     "name": "stdout",
     "output_type": "stream",
     "text": [
      "ppts= 55 cohorts= ['0: OPH03' '1: OPH612-->OPH03' '2: IHE, not OPH612']\n"
     ]
    }
   ],
   "source": [
    "print('ppts=',Ng,'cohorts=',all_suppress_df['enrollcohort'].unique())"
   ]
  },
  {
   "cell_type": "code",
   "execution_count": 10,
   "metadata": {},
   "outputs": [],
   "source": [
    "#couple quick fixes to make analysis easier\n",
    "\n",
    "all_suppress_df['log10CD4']=np.log10(all_suppress_df['cd4count'])\n",
    "\n",
    "wideout = all_suppress_df[['short_id','agemo_at_ART','f/m','ARTregimen', 'ART_mo',\n",
    "                         'log10VL', 'cens_vl' ,'log10CD4', 'log10int', 'cens_intact', 'log10def', 'ratio']]\n",
    "\n",
    "\n",
    "wideout = wideout.rename(columns={'ART_mo': 'time_ART_mo'})\n",
    "wideout = wideout.rename(columns={'ratio': 'log10ratio'})\n",
    "\n",
    "## PRINT OUT CSV\n",
    "\n",
    "wideout.to_csv('data/wideout'+threshold_name+'.csv')\n",
    "\n",
    "wideout[wideout['time_ART_mo']<12].to_csv('data/wideout-pre1yr'+threshold_name+'.csv')\n",
    "wideout[wideout['time_ART_mo']>12].to_csv('data/wideout-post1yr'+threshold_name+'.csv')"
   ]
  },
  {
   "cell_type": "code",
   "execution_count": null,
   "metadata": {},
   "outputs": [],
   "source": []
  }
 ],
 "metadata": {
  "kernelspec": {
   "display_name": "Python 3 (ipykernel)",
   "language": "python",
   "name": "python3"
  },
  "language_info": {
   "codemirror_mode": {
    "name": "ipython",
    "version": 3
   },
   "file_extension": ".py",
   "mimetype": "text/x-python",
   "name": "python",
   "nbconvert_exporter": "python",
   "pygments_lexer": "ipython3",
   "version": "3.11.5"
  },
  "nteract": {
   "version": "0.22.4"
  }
 },
 "nbformat": 4,
 "nbformat_minor": 2
}
